{
  "nbformat": 4,
  "nbformat_minor": 0,
  "metadata": {
    "colab": {
      "provenance": []
    },
    "kernelspec": {
      "name": "python3",
      "display_name": "Python 3"
    },
    "language_info": {
      "name": "python"
    }
  },
  "cells": [
    {
      "cell_type": "code",
      "source": [
        "from google.colab import drive\n",
        "drive.mount('/content/drive')\n"
      ],
      "metadata": {
        "colab": {
          "base_uri": "https://localhost:8080/"
        },
        "id": "rAWbB1fjWw33",
        "outputId": "6eb7dbee-98c2-4ed0-d445-f940ae4e22c9"
      },
      "execution_count": null,
      "outputs": [
        {
          "output_type": "stream",
          "name": "stdout",
          "text": [
            "Drive already mounted at /content/drive; to attempt to forcibly remount, call drive.mount(\"/content/drive\", force_remount=True).\n"
          ]
        }
      ]
    },
    {
      "cell_type": "markdown",
      "source": [
        "Topic 0: standings/playoff news<br>\n",
        "-  0.091: \"game\"\n",
        "-  0.030: \"cup\"\n",
        "-  0.026: \"playoff\"\n",
        "-  0.023: \"thread\"\n",
        "-  0.022: \"2013\"\n",
        "-  0.019: \"stanley\"\n",
        "-  0.017: \"last\"\n",
        "-  0.016: \"season\"\n",
        "-  0.015: \"time\"\n",
        "\n",
        "Topic 1: contract/trade news<br>\n",
        "-  0.042: \"year\"\n",
        "-  0.023: \"sign\"\n",
        "-  0.019: \"goal\"\n",
        "-  0.017: \"draft\"\n",
        "-  0.015: \"2\"\n",
        "-  0.014: \"deal\"\n",
        "-  0.012: \"hit\"\n",
        "\n",
        "Topic 2: franchise news<br>\n",
        "-  0.043: \"team\"\n",
        "-  0.039: \"fan\"\n",
        "-  0.023: \"one\"\n",
        "-  0.020: \"best\"\n",
        "-  0.018: \"like\"\n",
        "-  0.016: \"guy\"\n",
        "-  0.012: \"look\"\n",
        "-  0.011: \"trade\"\n",
        "\n",
        "Topic 3: individual news<br>\n",
        "-  0.042: \"player\"\n",
        "-  0.041: \"new\"\n",
        "-  0.027: \"team\"\n",
        "-  0.026: \"jersey\"\n",
        "-  0.020: \"r\"\n",
        "-  0.017: \"anyone\"\n",
        "-  0.016: \"league\"\n",
        "-  0.014: \"xpost\"\n",
        "-  0.013: \"get\""
      ],
      "metadata": {
        "id": "VwTGmx8lXufw"
      }
    },
    {
      "cell_type": "markdown",
      "source": [
        "# Imports"
      ],
      "metadata": {
        "id": "DH818RIkVxm1"
      }
    },
    {
      "cell_type": "code",
      "execution_count": null,
      "metadata": {
        "id": "fjJMFXuqVnST"
      },
      "outputs": [],
      "source": [
        "import torch\n",
        "import torch.nn as nn\n",
        "import torch.optim as optim\n",
        "\n",
        "import pandas as pd\n",
        "\n",
        "import numpy as np\n",
        "import matplotlib.pyplot as plt\n",
        "import seaborn as sns\n",
        "\n",
        "# vectorize our processed_texts\n",
        "from sklearn.feature_extraction.text import CountVectorizer\n",
        "from sklearn.model_selection import train_test_split"
      ]
    },
    {
      "cell_type": "code",
      "source": [
        "df = pd.read_csv('/content/drive/MyDrive/text_data.csv')"
      ],
      "metadata": {
        "id": "qPq7f08_V720"
      },
      "execution_count": null,
      "outputs": []
    },
    {
      "cell_type": "markdown",
      "source": [
        "# Vectorization"
      ],
      "metadata": {
        "id": "qy_eh8dJYDad"
      }
    },
    {
      "cell_type": "code",
      "source": [
        "# drop nan in df['preprocessed_title']\n",
        "df = df.dropna(subset=['preprocessed_title'])\n",
        "df = df.reset_index(drop=True)\n",
        "\n",
        "# check if there are any nan values in df['preprocessed_title']\n",
        "df['preprocessed_title'].isnull().sum()\n"
      ],
      "metadata": {
        "colab": {
          "base_uri": "https://localhost:8080/"
        },
        "id": "xf1A3RaMYKRo",
        "outputId": "b1b213fd-4032-430c-b17b-18f51f45e84d"
      },
      "execution_count": null,
      "outputs": [
        {
          "output_type": "execute_result",
          "data": {
            "text/plain": [
              "np.int64(0)"
            ]
          },
          "metadata": {},
          "execution_count": 23
        }
      ]
    },
    {
      "cell_type": "code",
      "source": [
        "print(df['title'][505])\n",
        "print(df['preprocessed_title'][505])\n",
        "print(df['topic'][505])"
      ],
      "metadata": {
        "colab": {
          "base_uri": "https://localhost:8080/"
        },
        "id": "YYUexTkLwB5P",
        "outputId": "b0825a09-3e14-4302-b421-5130e0dbb938"
      },
      "execution_count": null,
      "outputs": [
        {
          "output_type": "stream",
          "name": "stdout",
          "text": [
            "avery: \"blah blah blah... pay attention to me... blah blah blah\"; suspended indefinitely\n",
            "avery blah blah blah pay attention blah blah blah suspended indefinitely\n",
            "1\n"
          ]
        }
      ]
    },
    {
      "cell_type": "code",
      "source": [
        "# Encode ProcessedTweet as vectors\n",
        "vectorizer = CountVectorizer(max_features=5000)\n",
        "X = vectorizer.fit_transform(df['preprocessed_title'])\n",
        "\n",
        "X = X.toarray()\n",
        "\n",
        "print(X.shape) # (number of samples, number of features)"
      ],
      "metadata": {
        "colab": {
          "base_uri": "https://localhost:8080/"
        },
        "id": "It9PFE87YCpt",
        "outputId": "4d67daa5-75c7-4a7c-bd0a-542872f828be"
      },
      "execution_count": null,
      "outputs": [
        {
          "output_type": "stream",
          "name": "stdout",
          "text": [
            "(99844, 5000)\n"
          ]
        }
      ]
    },
    {
      "cell_type": "markdown",
      "source": [
        "## Data Split"
      ],
      "metadata": {
        "id": "oomUcqaJYztz"
      }
    },
    {
      "cell_type": "code",
      "source": [
        "X_train, X_val, y_train, y_val = train_test_split(X, df['topic'], test_size=0.2, random_state=42)"
      ],
      "metadata": {
        "id": "adDI53xYYzGF"
      },
      "execution_count": null,
      "outputs": []
    },
    {
      "cell_type": "code",
      "source": [
        "# Sample peek\n",
        "sample = df.iloc[788]\n",
        "print(sample['title'])\n",
        "print(sample['preprocessed_title'])\n",
        "print(sample['topic'])\n",
        "print(X[25].sum()) # number of words in the sample"
      ],
      "metadata": {
        "colab": {
          "base_uri": "https://localhost:8080/"
        },
        "id": "mpqb3MnKbwxC",
        "outputId": "38d6985b-cbee-488d-dc4a-69cb526b18aa"
      },
      "execution_count": null,
      "outputs": [
        {
          "output_type": "stream",
          "name": "stdout",
          "text": [
            "upper deck nhl rookie photo shoot\n",
            "upper deck rookie photo shoot\n",
            "1\n",
            "10\n"
          ]
        }
      ]
    },
    {
      "cell_type": "code",
      "source": [
        "# Convert data to PyTorch tensors\n",
        "X_train_tensor = torch.tensor(X_train, dtype=torch.float32)\n",
        "y_train_tensor = torch.tensor(y_train.values, dtype=torch.long)  # Convert to long tensor for CrossEntropyLoss\n",
        "X_val_tensor = torch.tensor(X_val, dtype=torch.float32)\n",
        "y_val_tensor = torch.tensor(y_val.values, dtype=torch.long)  # Convert to long tensor for CrossEntropyLoss"
      ],
      "metadata": {
        "id": "sw91TycRb8YY"
      },
      "execution_count": null,
      "outputs": []
    },
    {
      "cell_type": "markdown",
      "source": [
        "# NN Architecture"
      ],
      "metadata": {
        "id": "v99ZJD6DYZil"
      }
    },
    {
      "cell_type": "code",
      "source": [
        "# Define the neural network architecture\n",
        "class HockeyNN(nn.Module):\n",
        "    def __init__(self, input_size=5000, hidden_size1=32, num_classes=4):\n",
        "        super(HockeyNN, self).__init__()\n",
        "\n",
        "        self.relu = nn.ReLU()  # activation function\n",
        "\n",
        "        # Layer 1\n",
        "        self.fc1 = nn.Linear(input_size, hidden_size1)\n",
        "\n",
        "        # Layer 2\n",
        "        self.fc2 = nn.Linear(hidden_size1, hidden_size1)\n",
        "\n",
        "        # Dropout\n",
        "        self.dropout = nn.Dropout(p=0.3)\n",
        "\n",
        "        # Output Layer\n",
        "        self.fc3 = nn.Linear(hidden_size1, num_classes)\n",
        "\n",
        "        # Define the loss function\n",
        "        self.loss_function = nn.CrossEntropyLoss()  # Suitable for multi-class classification with one-hot labels\n",
        "    def forward(self, x):\n",
        "        # Forward pass\n",
        "        out = self.fc1(x)\n",
        "        out = self.relu(out)\n",
        "        out = self.dropout(out)\n",
        "        out = self.fc3(out)\n",
        "        return out\n",
        "    # Define the loss function\n",
        "    def loss_fn(self, y_pred, y_true):\n",
        "        return self.loss_function(y_pred, y_true)"
      ],
      "metadata": {
        "id": "K3wUeeRcYbWy"
      },
      "execution_count": null,
      "outputs": []
    },
    {
      "cell_type": "markdown",
      "source": [
        "To prevent overfitting, the learning rate was reduced to 0.0001, weight decay was added to add regularization, as well as a dropout layer. The model didn't need a vast amount of complexity, only requiring 8 neurons in the activation layer to achieve an impressive validation accuracy without overfitting."
      ],
      "metadata": {
        "id": "mvViXQ00wgfy"
      }
    },
    {
      "cell_type": "markdown",
      "source": [
        "## Training"
      ],
      "metadata": {
        "id": "kThJq81oirOi"
      }
    },
    {
      "cell_type": "code",
      "source": [
        "# Create the model\n",
        "model = HockeyNN(input_size=X.shape[1], hidden_size1=8, num_classes=len(df['topic'].unique()))\n",
        "model.train()  # Set the model to training mode\n",
        "\n",
        "# Define the optimizer\n",
        "optimizer = optim.Adam(model.parameters(), lr=0.0001, weight_decay=1e-5)  # Adam optimizer with learning rate of 0.001\n"
      ],
      "metadata": {
        "id": "bJM40HS3ikEH"
      },
      "execution_count": null,
      "outputs": []
    },
    {
      "cell_type": "code",
      "source": [
        "# Train\n",
        "num_epochs = 20\n",
        "batch_size = 32\n",
        "num_batches = len(X_train_tensor) // batch_size\n",
        "\n",
        "# Loss\n",
        "train_loss = []\n",
        "val_loss = []\n",
        "# Accuracy\n",
        "train_acc = [] # Do we care most about accuracy?\n",
        "val_acc = []\n",
        "# Recall\n",
        "train_recall = []\n",
        "val_recall = []\n",
        "# Precision\n",
        "train_precision = []\n",
        "val_precision = []\n",
        "\n",
        "\n",
        "for epoch in range(num_epochs):\n",
        "    # Shuffle the training data\n",
        "    indices = torch.randperm(len(X_train_tensor))\n",
        "    X_train_tensor = X_train_tensor[indices]\n",
        "    y_train_tensor = y_train_tensor[indices]\n",
        "\n",
        "    epoch_train_loss = 0\n",
        "    epoch_train_correct = 0\n",
        "    epoch_true_positive = 0\n",
        "    epoch_false_negative = 0\n",
        "    epoch_false_positive = 0\n",
        "\n",
        "    for i in range(num_batches):\n",
        "        # Get the batch\n",
        "        X_batch = X_train_tensor[i * batch_size:(i + 1) * batch_size]\n",
        "        y_batch = y_train_tensor[i * batch_size:(i + 1) * batch_size]\n",
        "\n",
        "        # Zero the gradients\n",
        "        optimizer.zero_grad()\n",
        "\n",
        "        # Forward pass\n",
        "        y_pred = model(X_batch)\n",
        "\n",
        "        # Compute the loss\n",
        "        loss = model.loss_fn(y_pred, y_batch)\n",
        "        epoch_train_loss += loss.item()\n",
        "\n",
        "        # Backward pass and optimization\n",
        "        loss.backward()\n",
        "        optimizer.step()\n",
        "\n",
        "        # Calculate training accuracy, recall, and precision\n",
        "        _, predicted = torch.max(y_pred.data, 1)\n",
        "        epoch_train_correct += (predicted == y_batch).sum().item()\n",
        "\n",
        "        true_positive = ((predicted == y_batch) & (y_batch == 1)).sum().item()\n",
        "        false_negative = ((predicted != y_batch) & (y_batch == 1)).sum().item()\n",
        "        false_positive = ((predicted != y_batch) & (predicted == 1)).sum().item()\n",
        "\n",
        "        epoch_true_positive += true_positive\n",
        "        epoch_false_negative += false_negative\n",
        "        epoch_false_positive += false_positive\n",
        "\n",
        "    train_accuracy = epoch_train_correct / len(X_train_tensor)\n",
        "    train_recall_value = epoch_true_positive / (epoch_true_positive + epoch_false_negative) if (epoch_true_positive + epoch_false_negative) > 0 else 0\n",
        "    train_precision_value = epoch_true_positive / (epoch_true_positive + epoch_false_positive) if (epoch_true_positive + epoch_false_positive) > 0 else 0\n",
        "\n",
        "    train_loss.append(epoch_train_loss / num_batches)\n",
        "    train_acc.append(train_accuracy)\n",
        "    train_recall.append(train_recall_value)\n",
        "    train_precision.append(train_precision_value)\n",
        "\n",
        "    # Validation\n",
        "    with torch.no_grad():\n",
        "        model.eval()  # Set the model to evaluation mode\n",
        "        val_pred = model(X_val_tensor)\n",
        "        val_loss_value = model.loss_fn(val_pred, y_val_tensor)\n",
        "\n",
        "        # Calculate validation accuracy\n",
        "        _, predicted = torch.max(val_pred.data, 1)\n",
        "        correct = (predicted == y_val_tensor).sum().item()\n",
        "        val_accuracy = correct / len(y_val_tensor)\n",
        "\n",
        "        # Calculate validation recall and precision\n",
        "        true_positive = ((predicted == y_val_tensor) & (y_val_tensor == 1)).sum().item()\n",
        "        false_negative = ((predicted != y_val_tensor) & (y_val_tensor == 1)).sum().item()\n",
        "        false_positive = ((predicted != y_val_tensor) & (predicted == 1)).sum().item()\n",
        "\n",
        "        val_recall_value = true_positive / (true_positive + false_negative) if (true_positive + false_negative) > 0 else 0\n",
        "        val_precision_value = true_positive / (true_positive + false_positive) if (true_positive + false_positive) > 0 else 0\n",
        "\n",
        "        val_loss.append(val_loss_value.item())\n",
        "        val_acc.append(val_accuracy)\n",
        "        val_recall.append(val_recall_value)\n",
        "        val_precision.append(val_precision_value)\n",
        "\n",
        "    print(f'Epoch [{epoch+1}/{num_epochs}], '\n",
        "          f'Train Loss: {train_loss[-1]:.4f}, Train Accuracy: {train_acc[-1]:.4f}, '\n",
        "          f'Train Recall: {train_recall[-1]:.4f}, Train Precision: {train_precision[-1]:.4f}, '\n",
        "          f'Val Loss: {val_loss[-1]:.4f}, Val Accuracy: {val_acc[-1]:.4f}, '\n",
        "          f'Val Recall: {val_recall[-1]:.4f}, Val Precision: {val_precision[-1]:.4f}')"
      ],
      "metadata": {
        "colab": {
          "base_uri": "https://localhost:8080/"
        },
        "id": "OYG-CqqcjYGW",
        "outputId": "4ea922c7-768c-4b2e-b7ce-eb59b590a1ee"
      },
      "execution_count": null,
      "outputs": [
        {
          "output_type": "stream",
          "name": "stdout",
          "text": [
            "Epoch [1/20], Train Loss: 1.3179, Train Accuracy: 0.4522, Train Recall: 0.6947, Train Precision: 0.3824, Val Loss: 1.2075, Val Accuracy: 0.7157, Val Recall: 0.5755, Val Precision: 0.8707\n",
            "Epoch [2/20], Train Loss: 1.0829, Train Accuracy: 0.7233, Train Recall: 0.5761, Train Precision: 0.9065, Val Loss: 0.9680, Val Accuracy: 0.7714, Val Recall: 0.6525, Val Precision: 0.8859\n",
            "Epoch [3/20], Train Loss: 0.8562, Train Accuracy: 0.8114, Train Recall: 0.7369, Train Precision: 0.8976, Val Loss: 0.7720, Val Accuracy: 0.8309, Val Recall: 0.7691, Val Precision: 0.8860\n",
            "Epoch [4/20], Train Loss: 0.6856, Train Accuracy: 0.8566, Train Recall: 0.8170, Train Precision: 0.8979, Val Loss: 0.6348, Val Accuracy: 0.8538, Val Recall: 0.8121, Val Precision: 0.8887\n",
            "Epoch [5/20], Train Loss: 0.5659, Train Accuracy: 0.8781, Train Recall: 0.8510, Train Precision: 0.9041, Val Loss: 0.5397, Val Accuracy: 0.8716, Val Recall: 0.8444, Val Precision: 0.8934\n",
            "Epoch [6/20], Train Loss: 0.4804, Train Accuracy: 0.8943, Train Recall: 0.8758, Train Precision: 0.9120, Val Loss: 0.4722, Val Accuracy: 0.8807, Val Recall: 0.8548, Val Precision: 0.8956\n",
            "Epoch [7/20], Train Loss: 0.4180, Train Accuracy: 0.9060, Train Recall: 0.8910, Train Precision: 0.9203, Val Loss: 0.4234, Val Accuracy: 0.8899, Val Recall: 0.8676, Val Precision: 0.9014\n",
            "Epoch [8/20], Train Loss: 0.3711, Train Accuracy: 0.9150, Train Recall: 0.9029, Train Precision: 0.9265, Val Loss: 0.3874, Val Accuracy: 0.8939, Val Recall: 0.8744, Val Precision: 0.9019\n",
            "Epoch [9/20], Train Loss: 0.3352, Train Accuracy: 0.9218, Train Recall: 0.9121, Train Precision: 0.9327, Val Loss: 0.3604, Val Accuracy: 0.8974, Val Recall: 0.8813, Val Precision: 0.9034\n",
            "Epoch [10/20], Train Loss: 0.3070, Train Accuracy: 0.9270, Train Recall: 0.9181, Train Precision: 0.9368, Val Loss: 0.3399, Val Accuracy: 0.9011, Val Recall: 0.8857, Val Precision: 0.9069\n",
            "Epoch [11/20], Train Loss: 0.2846, Train Accuracy: 0.9314, Train Recall: 0.9256, Train Precision: 0.9398, Val Loss: 0.3241, Val Accuracy: 0.9028, Val Recall: 0.8846, Val Precision: 0.9117\n",
            "Epoch [12/20], Train Loss: 0.2664, Train Accuracy: 0.9347, Train Recall: 0.9297, Train Precision: 0.9433, Val Loss: 0.3118, Val Accuracy: 0.9046, Val Recall: 0.8881, Val Precision: 0.9124\n",
            "Epoch [13/20], Train Loss: 0.2514, Train Accuracy: 0.9373, Train Recall: 0.9315, Train Precision: 0.9466, Val Loss: 0.3021, Val Accuracy: 0.9066, Val Recall: 0.8949, Val Precision: 0.9113\n",
            "Epoch [14/20], Train Loss: 0.2388, Train Accuracy: 0.9403, Train Recall: 0.9370, Train Precision: 0.9483, Val Loss: 0.2946, Val Accuracy: 0.9072, Val Recall: 0.8905, Val Precision: 0.9153\n",
            "Epoch [15/20], Train Loss: 0.2281, Train Accuracy: 0.9422, Train Recall: 0.9391, Train Precision: 0.9505, Val Loss: 0.2884, Val Accuracy: 0.9074, Val Recall: 0.8947, Val Precision: 0.9130\n",
            "Epoch [16/20], Train Loss: 0.2190, Train Accuracy: 0.9443, Train Recall: 0.9419, Train Precision: 0.9516, Val Loss: 0.2837, Val Accuracy: 0.9067, Val Recall: 0.8957, Val Precision: 0.9111\n",
            "Epoch [17/20], Train Loss: 0.2110, Train Accuracy: 0.9458, Train Recall: 0.9441, Train Precision: 0.9535, Val Loss: 0.2798, Val Accuracy: 0.9074, Val Recall: 0.8931, Val Precision: 0.9122\n",
            "Epoch [18/20], Train Loss: 0.2041, Train Accuracy: 0.9473, Train Recall: 0.9462, Train Precision: 0.9547, Val Loss: 0.2768, Val Accuracy: 0.9068, Val Recall: 0.8961, Val Precision: 0.9070\n",
            "Epoch [19/20], Train Loss: 0.1979, Train Accuracy: 0.9485, Train Recall: 0.9482, Train Precision: 0.9550, Val Loss: 0.2744, Val Accuracy: 0.9064, Val Recall: 0.8916, Val Precision: 0.9101\n",
            "Epoch [20/20], Train Loss: 0.1925, Train Accuracy: 0.9496, Train Recall: 0.9495, Train Precision: 0.9563, Val Loss: 0.2724, Val Accuracy: 0.9060, Val Recall: 0.8933, Val Precision: 0.9083\n"
          ]
        }
      ]
    },
    {
      "cell_type": "code",
      "source": [
        "# Plot the validation and training loss\n",
        "plt.figure(figsize=(12, 6))\n",
        "plt.plot(train_loss, label='Train Loss')\n",
        "plt.plot(val_loss, label='Validation Loss')\n",
        "plt.title('Loss vs Epochs')\n",
        "plt.xlabel('Epochs')\n",
        "plt.ylabel('Loss')\n",
        "plt.legend()\n",
        "plt.show()"
      ],
      "metadata": {
        "colab": {
          "base_uri": "https://localhost:8080/",
          "height": 564
        },
        "id": "NZZjlWmOjy0C",
        "outputId": "e0d2cef8-f7b5-48a3-dcae-42eb86956413"
      },
      "execution_count": null,
      "outputs": [
        {
          "output_type": "display_data",
          "data": {
            "text/plain": [
              "<Figure size 1200x600 with 1 Axes>"
            ],
            "image/png": "[encoded data removed]"
          },
          "metadata": {}
        }
      ]
    },
    {
      "cell_type": "code",
      "source": [
        "# Save the model\n",
        "torch.save(model.state_dict(), 'tweet_model.pth')"
      ],
      "metadata": {
        "id": "_4mmKddDx6ue"
      },
      "execution_count": null,
      "outputs": []
    },
    {
      "cell_type": "markdown",
      "source": [
        "## Testing evaluation"
      ],
      "metadata": {
        "id": "Hjr7K-PUrnB2"
      }
    },
    {
      "cell_type": "code",
      "source": [
        "test_df = pd.read_csv('/content/drive/MyDrive/test_hockey_data.csv')"
      ],
      "metadata": {
        "id": "P_ZInSAVqxD6"
      },
      "execution_count": null,
      "outputs": []
    },
    {
      "cell_type": "code",
      "source": [
        "import re\n",
        "import nltk\n",
        "from nltk.corpus import stopwords\n",
        "from nltk.stem import WordNetLemmatizer"
      ],
      "metadata": {
        "id": "kTekF7srxupI"
      },
      "execution_count": null,
      "outputs": []
    },
    {
      "cell_type": "code",
      "source": [
        "nltk.download('stopwords')\n",
        "nltk.download('punkt_tab')\n",
        "nltk.download('wordnet')"
      ],
      "metadata": {
        "colab": {
          "base_uri": "https://localhost:8080/"
        },
        "id": "GsirK3AhyxRc",
        "outputId": "da502170-7ea5-4cc5-d147-10929fd4f55e"
      },
      "execution_count": null,
      "outputs": [
        {
          "output_type": "stream",
          "name": "stderr",
          "text": [
            "[nltk_data] Downloading package stopwords to /root/nltk_data...\n",
            "[nltk_data]   Package stopwords is already up-to-date!\n",
            "[nltk_data] Downloading package punkt_tab to /root/nltk_data...\n",
            "[nltk_data]   Package punkt_tab is already up-to-date!\n",
            "[nltk_data] Downloading package wordnet to /root/nltk_data...\n",
            "[nltk_data]   Package wordnet is already up-to-date!\n"
          ]
        },
        {
          "output_type": "execute_result",
          "data": {
            "text/plain": [
              "True"
            ]
          },
          "metadata": {},
          "execution_count": 44
        }
      ]
    },
    {
      "cell_type": "code",
      "source": [
        "teams = [\n",
        "    \"ducks\", \"coyotes\", \"bruins\", \"sabres\", \"flames\", \"hurricanes\",\n",
        "    \"blackhawks\", \"avalanche\", \"blue jackets\", \"stars\", \"red wings\",\n",
        "    \"oilers\", \"panthers\", \"kings\", \"wild\", \"canadiens\", \"predators\",\n",
        "    \"devils\", \"islanders\", \"rangers\", \"senators\", \"flyers\", \"penguins\",\n",
        "    \"sharks\", \"kraken\", \"blues\", \"lightning\", \"maple leafs\", \"canucks\",\n",
        "    \"golden knights\", \"capitals\", \"jets\", \"leafs\", \"knights\", \"jackets\", \"wings\"\n",
        "]\n",
        "\n",
        "teams_with_boundaries = [r'\\b' + team + r'\\b' for team in teams]\n",
        "\n",
        "teams_with_boundaries = '|'.join(teams_with_boundaries)"
      ],
      "metadata": {
        "id": "A0hqk97EyCUS"
      },
      "execution_count": null,
      "outputs": []
    },
    {
      "cell_type": "code",
      "source": [
        "# Initialize lemmatizer and stop words\n",
        "lemmatizer = WordNetLemmatizer()\n",
        "stop_words = set(stopwords.words('english'))\n",
        "\n",
        "def preprocess_text(text):\n",
        "    \"\"\"\n",
        "    Preprocess tweet text for machine learning.\n",
        "\n",
        "    Done by removing URLs and special characters, tokenizing, removing\n",
        "    stop words, and lemmatizing the words.\n",
        "    \"\"\"\n",
        "\n",
        "    # Remove URLs\n",
        "    text = re.sub(r'http\\S+|www\\S+|https\\S+', '', text, flags=re.MULTILINE)\n",
        "\n",
        "    # Remove \"&amp;\" an HTML entity\n",
        "    text = re.sub(r'&amp;', '', text)\n",
        "\n",
        "    # Remove hockey related words\n",
        "    text = re.sub(r'\\bhockey\\b|\\bnhl\\b|\\bv\\b|\\b'+teams_with_boundaries, '', text, flags=re.IGNORECASE)\n",
        "\n",
        "    # Remove special characters and numbers\n",
        "    text = re.sub(r'[^A-Za-z0-9\\s]', '', text)\n",
        "\n",
        "    # Tokenize the text\n",
        "    tokens = nltk.word_tokenize(text)\n",
        "\n",
        "    # Initialize the lemmatizer and stop words\n",
        "    lemmatizer = WordNetLemmatizer()\n",
        "    stop_words = set(stopwords.words('english'))\n",
        "\n",
        "    # Remove stop words and lemmatize\n",
        "    processed_tokens = [\n",
        "        lemmatizer.lemmatize(token.lower())\n",
        "        for token in tokens if token.lower() not in stop_words\n",
        "    ]\n",
        "\n",
        "    return ' '.join(processed_tokens)"
      ],
      "metadata": {
        "id": "HLe345YjyF2S"
      },
      "execution_count": null,
      "outputs": []
    },
    {
      "cell_type": "code",
      "source": [
        "# process tweets into tokens\n",
        "test_df['preprocessed_title'] = test_df['title'].apply(preprocess_text)\n",
        "print(test_df['preprocessed_title'][10:20]) # peek at some tweets"
      ],
      "metadata": {
        "colab": {
          "base_uri": "https://localhost:8080/"
        },
        "id": "yG6ttfYby5qq",
        "outputId": "cf494100-a824-4df4-c50d-da31e6b8bbaf"
      },
      "execution_count": null,
      "outputs": [
        {
          "output_type": "stream",
          "name": "stdout",
          "text": [
            "10                      datsyuks first goal 2013 season\n",
            "11                             game thread game tonight\n",
            "12                                       bryz echl vega\n",
            "13    game thread anaheim colorado 2 october 2013 73...\n",
            "14                                      90 kid get lgrw\n",
            "15                     there montral speak french crowd\n",
            "16        restaurant write fodors restaurant koivu bros\n",
            "17       panoramic shot seat brooklyn v barclays center\n",
            "18    last april ryan suter averaged 27 minute game ...\n",
            "19                                 20132014 season know\n",
            "Name: preprocessed_title, dtype: object\n"
          ]
        }
      ]
    },
    {
      "cell_type": "code",
      "source": [
        "# apply vectorizer to the test set\n",
        "X_test = vectorizer.transform(test_df['preprocessed_title'])\n",
        "X_test = X_test.toarray()\n",
        "print(X_test.shape) # (number of samples, number of features)"
      ],
      "metadata": {
        "colab": {
          "base_uri": "https://localhost:8080/"
        },
        "id": "1NuQPB4QzxTU",
        "outputId": "b3e18876-f041-4d9e-c08c-3f3258e18eca"
      },
      "execution_count": null,
      "outputs": [
        {
          "output_type": "stream",
          "name": "stdout",
          "text": [
            "(10001, 5000)\n"
          ]
        }
      ]
    },
    {
      "cell_type": "code",
      "source": [
        "# classify the test set\n",
        "model.eval()  # Set the model to evaluation mode\n",
        "with torch.no_grad():\n",
        "    X_test_tensor = torch.tensor(X_test, dtype=torch.float32)\n",
        "    y_test_pred = model(X_test_tensor)\n",
        "    _, predicted = torch.max(y_test_pred.data, 1)\n",
        "    test_df['predicted_topic'] = predicted.numpy()  # Convert to numpy array and add to DataFrame"
      ],
      "metadata": {
        "id": "AJ0HC_nGz4o5"
      },
      "execution_count": null,
      "outputs": []
    },
    {
      "cell_type": "code",
      "source": [
        "label_mapping = {0: 'standings/playoff news', 1: 'contract/trade', 2: 'franchise news', 3: 'individual/game news'}\n",
        "test_df['predicted_topic'] = test_df['predicted_topic'].map(label_mapping)\n",
        "#"
      ],
      "metadata": {
        "id": "S56N-MEF0Gjk"
      },
      "execution_count": null,
      "outputs": []
    },
    {
      "cell_type": "code",
      "source": [
        "print(test_df[20:40])"
      ],
      "metadata": {
        "colab": {
          "base_uri": "https://localhost:8080/"
        },
        "id": "tAyyZVgG0jd_",
        "outputId": "373cb818-08cd-4378-efd0-9fc9ad1c066a"
      },
      "execution_count": null,
      "outputs": [
        {
          "output_type": "stream",
          "name": "stdout",
          "text": [
            "                                                title  created_utc  \\\n",
            "20        kovalchuk may be out for 4 weeks in the khl   1380759068   \n",
            "21                     coyote's inaugural stick blade   1380758962   \n",
            "22  can someone please give me a link to watch the...   1380758923   \n",
            "23                      remember this time last year?   1380758674   \n",
            "24  hq zdeno chara vs david koci fight october 25,...   1380758652   \n",
            "25  found this in my buddys basement coyote's inau...   1380758520   \n",
            "26  undisclosed injury: the scary case of tomas vo...   1380930548   \n",
            "27  game thread: kings (1-0-0) at jets (1-0-0) - 1...   1380930497   \n",
            "28       stuff panthers fans are saying after game 1.   1380929334   \n",
            "29                do you root for more than one team?   1380928903   \n",
            "30  why does center ice on cable have only 1 hd game?   1380928467   \n",
            "31  game thread: new york islanders (0-0-0) at new...   1380927281   \n",
            "32  game thread: red wings (1-0-0) at hurricanes (...   1380927037   \n",
            "33  john scott: guys like yzerman 'trying to take ...   1380926874   \n",
            "34  how i feel trying to watch nhl as a swede.. (f...   1380926664   \n",
            "35  is anyone going to post a thread for the wings...   1380926439   \n",
            "36  game thread: calgary flames (0-0-1) at columbu...   1380924515   \n",
            "37  did fights always start after big clean hits o...   1380924328   \n",
            "38  game thread: ottawa senators at buffalo sabres...   1380924209   \n",
            "39  hockey's future releases its fall prospect ran...   1380922621   \n",
            "\n",
            "                                   preprocessed_title         predicted_topic  \n",
            "20                           kovalchuk may 4 week khl          contract/trade  \n",
            "21                       coyote inaugural stick blade  standings/playoff news  \n",
            "22  someone please give link watch red wing v game...    individual/game news  \n",
            "23                            remember time last year    individual/game news  \n",
            "24  hq zdeno chara v david koci fight october 25 2007          contract/trade  \n",
            "25  found buddy basement coyote inauguration stick...  standings/playoff news  \n",
            "26         undisclosed injury scary case tomas vokoun          contract/trade  \n",
            "27                game thread 100 100 10042013 700 ct    individual/game news  \n",
            "28                            stuff fan saying game 1    individual/game news  \n",
            "29                                      root one team          franchise news  \n",
            "30                         center ice cable 1 hd game    individual/game news  \n",
            "31  game thread new york 000 new jersey 010 4 oct ...    individual/game news  \n",
            "32                game thread 100 000 10042013 700 et    individual/game news  \n",
            "33   john scott guy like yzerman trying take job away          franchise news  \n",
            "34       feel trying watch swede first game start 1am    individual/game news  \n",
            "35                      anyone going post thread cane    individual/game news  \n",
            "36  game thread calgary 001 columbus 000 4 oct 201...    individual/game news  \n",
            "37    fight always start big clean hit new dumb thing          franchise news  \n",
            "38      game thread ottawa buffalo 4 oct 2013 7pm edt    individual/game news  \n",
            "39  future release fall prospect ranking alex galc...          contract/trade  \n"
          ]
        }
      ]
    },
    {
      "cell_type": "markdown",
      "source": [
        "I'm a little fearful that while the model actually performed very well, the topics are poorly defined, which is leading to some of these classifications not make any sense. In retrospect, it might have been better to use sumbissions from r/nhl to narrow things down a little bit in terms of potential post topics."
      ],
      "metadata": {
        "id": "6LiLGwju1ah9"
      }
    }
  ]
}